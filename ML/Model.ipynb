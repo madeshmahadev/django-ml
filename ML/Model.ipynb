{
 "cells": [
  {
   "cell_type": "code",
   "execution_count": 2,
   "metadata": {},
   "outputs": [],
   "source": [
    "import pandas as pd\n",
    "from sklearn.model_selection import train_test_split\n",
    "import pickle\n",
    "from sklearn.ensemble import RandomForestClassifier\n",
    "from sklearn.metrics import accuracy_score\n",
    "\n",
    "df = pd.read_csv('train.csv')\n",
    "\n",
    "#To extract titles from Name data\n",
    "def get_titles(name):\n",
    "    if '.' in name:\n",
    "        return name.split(',')[1].split('.')[0].strip()\n",
    "    else:\n",
    "        return \"unknown\"\n",
    "\n",
    "#To classify other unusual titles to usual ones..\n",
    "def short_title(x):\n",
    "    title = x['Title']\n",
    "    if title in ['Capt','Col','Major']:\n",
    "        return 'Officer'\n",
    "    elif title in  ['Sir','Don','Dona','Jonkheer','Lady','the Countess','Dr']:\n",
    "        return 'Royalty'\n",
    "    elif title in ['Mlle','Ms']:\n",
    "        return 'Miss'\n",
    "    elif title in ['Mme']:\n",
    "        return 'Mrs'\n",
    "    else:\n",
    "        return title\n",
    "\n",
    "df['Title'] = df['Name'].map(lambda x: get_titles(x))\n",
    "df['Title'] = df.apply(short_title, axis=1)\n",
    "\n",
    "#Removing null values and less priority columns\n",
    "df['Age'].fillna(df['Age'].median(), inplace=True)\n",
    "df['Fare'].fillna(df['Fare'].median(), inplace=True)\n",
    "df['Embarked'].fillna(\"S\", inplace=True)\n",
    "df.drop(\"Cabin\", axis=1, inplace=True)\n",
    "df.drop(\"Name\", axis=1, inplace=True)\n",
    "df.drop(\"Ticket\", axis=1, inplace=True)\n",
    "\n",
    "#Converting String data into numbers --> for ML to read comfortably\n",
    "df.Sex.replace(('male','female'), (0,1), inplace=True)\n",
    "df.Embarked.replace(('S','C','Q'), (0,1,2), inplace=True)\n",
    "df.Title.replace(('Mr','Miss','Mrs','Master','Dr','Rev','Officer','Royalty'),(0,1,2,3,4,5,6,7), inplace=True)\n",
    "\n",
    "\n",
    "x = df.drop(['Survived','PassengerId'], axis=1)\n",
    "y = df['Survived']\n",
    "x_train, x_val, y_train, y_val = train_test_split(x,y,test_size=0.1)\n",
    "randomforest = RandomForestClassifier()\n",
    "randomforest.fit(x_train,y_train)\n",
    "\n",
    "pickle.dump(randomforest, open('titanic_model.sav','wb'))\n"
   ]
  },
  {
   "cell_type": "code",
   "execution_count": 6,
   "metadata": {},
   "outputs": [],
   "source": [
    "def pred_model(pclass,sex,age,sibsp,parch,fare,embarked,title):\n",
    "    import pickle\n",
    "    x = [[pclass,sex,age,sibsp,parch,fare,embarked,title]]\n",
    "    randomforest = pickle.load(open('titanic_model.sav','rb'))\n",
    "    predictions = randomforest.predict(x)\n",
    "    print(predictions)"
   ]
  },
  {
   "cell_type": "code",
   "execution_count": 7,
   "metadata": {},
   "outputs": [
    {
     "name": "stdout",
     "output_type": "stream",
     "text": [
      "[1]\n"
     ]
    }
   ],
   "source": [
    "pred_model(1,1,11,1,1,19,1,1)"
   ]
  },
  {
   "cell_type": "code",
   "execution_count": null,
   "metadata": {},
   "outputs": [],
   "source": []
  }
 ],
 "metadata": {
  "kernelspec": {
   "display_name": "Python 3",
   "language": "python",
   "name": "python3"
  },
  "language_info": {
   "codemirror_mode": {
    "name": "ipython",
    "version": 3
   },
   "file_extension": ".py",
   "mimetype": "text/x-python",
   "name": "python",
   "nbconvert_exporter": "python",
   "pygments_lexer": "ipython3",
   "version": "3.7.4"
  }
 },
 "nbformat": 4,
 "nbformat_minor": 4
}
